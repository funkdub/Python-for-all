{
 "cells": [
  {
   "cell_type": "code",
   "execution_count": 27,
   "metadata": {},
   "outputs": [
    {
     "name": "stdout",
     "output_type": "stream",
     "text": [
      "请输入正整数！4\n",
      "不是素数\n"
     ]
    }
   ],
   "source": [
    "#1 判断素数\n",
    "from math import sqrt\n",
    "a= \"是素数！\"\n",
    "v = int(input(\"请输入正整数！\"))\n",
    "s = int(sqrt(v))\n",
    "for x in range(2,s+1):\n",
    "    if v % x ==0:\n",
    "        a = \"不是素数\"\n",
    "        break\n",
    "if v==1:\n",
    "    a = \"不是素数！\"\n",
    "print(a)\n",
    "        \n",
    "\n"
   ]
  },
  {
   "cell_type": "code",
   "execution_count": 30,
   "metadata": {},
   "outputs": [
    {
     "name": "stdout",
     "output_type": "stream",
     "text": [
      "请输入正整数a=20\n",
      "请输入正整数b=10\n",
      "10 and 20 的最大公约书是10\n",
      "10 and 20 的最小公倍数书是20\n"
     ]
    }
   ],
   "source": [
    "#2 最大公约数 / 最小公倍数\n",
    "x = int(input(\"请输入正整数a=\"))\n",
    "y = int(input(\"请输入正整数b=\"))\n",
    "\n",
    "if x>y:\n",
    "    (x,y) = (y,x)\n",
    "\n",
    "for factor in range(x,0,-1):\n",
    "    if x%factor==0 and y%factor==0:\n",
    "        print('%d and %d 的最大公约书是%d' % (x,y,factor))\n",
    "        print('%d and %d 的最小公倍数书是%d' % (x,y,x*y//factor))\n",
    "        break;"
   ]
  },
  {
   "cell_type": "code",
   "execution_count": 42,
   "metadata": {},
   "outputs": [
    {
     "name": "stdout",
     "output_type": "stream",
     "text": [
      "**********\n",
      "\n",
      "*********\n",
      "\n",
      "********\n",
      "\n",
      "*******\n",
      "\n",
      "******\n",
      "\n",
      "*****\n",
      "\n",
      "****\n",
      "\n",
      "***\n",
      "\n",
      "**\n",
      "\n",
      "*\n",
      "\n",
      "*\n",
      "\n",
      "**\n",
      "\n",
      "***\n",
      "\n",
      "****\n",
      "\n",
      "*****\n",
      "\n",
      "******\n",
      "\n",
      "*******\n",
      "\n",
      "********\n",
      "\n",
      "*********\n",
      "\n",
      "         *\n",
      "\n",
      "        ***\n",
      "\n",
      "       *****\n",
      "\n",
      "      *******\n",
      "\n",
      "     *********\n",
      "\n",
      "    ***********\n",
      "\n",
      "   *************\n",
      "\n",
      "  ***************\n",
      "\n",
      " *****************\n",
      "\n",
      "*******************\n",
      "\n"
     ]
    }
   ],
   "source": [
    "#3 打印三角形\n",
    "for i in range(10):\n",
    "    for j in range(10-i):\n",
    "        print('*',end='')\n",
    "    print('\\n')\n",
    "    \n",
    "for i in range(1,10):\n",
    "    for j in range(1,i+1):\n",
    "        print('*',end='')\n",
    "    print('\\n')\n",
    "    \n",
    "for i in range(10):\n",
    "    for k in range(9-i):\n",
    "        print(' ',end='')\n",
    "    for j in range(2*i+1):\n",
    "        print('*',end='')\n",
    "    print('\\n')"
   ]
  },
  {
   "cell_type": "code",
   "execution_count": null,
   "metadata": {
    "collapsed": true
   },
   "outputs": [],
   "source": []
  }
 ],
 "metadata": {
  "kernelspec": {
   "display_name": "Python 3",
   "language": "python",
   "name": "python3"
  },
  "language_info": {
   "codemirror_mode": {
    "name": "ipython",
    "version": 3
   },
   "file_extension": ".py",
   "mimetype": "text/x-python",
   "name": "python",
   "nbconvert_exporter": "python",
   "pygments_lexer": "ipython3",
   "version": "3.6.6"
  }
 },
 "nbformat": 4,
 "nbformat_minor": 2
}
