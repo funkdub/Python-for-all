{
 "cells": [
  {
   "cell_type": "code",
   "execution_count": 2,
   "metadata": {},
   "outputs": [
    {
     "name": "stdout",
     "output_type": "stream",
     "text": [
      "请输入单位制=cm\n",
      "请输入数值=1\n",
      "0.393701英寸 = 1.000000厘米\n"
     ]
    }
   ],
   "source": [
    "#1英制与公制转换\n",
    "danwei = input(\"请输入单位制=\")\n",
    "v = float(input(\"请输入数值=\"))\n",
    "if danwei == 'in':\n",
    "    print(\"%f英寸 = %f厘米\" % (v , v*2.54))\n",
    "elif danwei == 'cm':\n",
    "    print(\"%f英寸 = %f厘米\" % (v/2.54 , v))\n",
    "else:\n",
    "    print(\"error!\")\n",
    "\n"
   ]
  },
  {
   "cell_type": "code",
   "execution_count": 9,
   "metadata": {},
   "outputs": [
    {
     "name": "stdout",
     "output_type": "stream",
     "text": [
      "饿着！\n"
     ]
    }
   ],
   "source": [
    "#2 制骰子\n",
    "from random import randint\n",
    "\n",
    "value = randint(1,6)\n",
    "\n",
    "if value==1:\n",
    "    print(\"吃饭！\")\n",
    "elif value==2:\n",
    "    print(\"吃香蕉\")\n",
    "else:\n",
    "    print(\"饿着！\")"
   ]
  },
  {
   "cell_type": "code",
   "execution_count": 12,
   "metadata": {},
   "outputs": [
    {
     "name": "stdout",
     "output_type": "stream",
     "text": [
      "请输入分数：1\n",
      "呵呵！\n"
     ]
    }
   ],
   "source": [
    "#3 百分制转等级\n",
    "value = float(input(\"请输入分数：\"))\n",
    "\n",
    "if value>90:\n",
    "    print(\"不错啊！\")\n",
    "elif value<=90 and value>60:\n",
    "    print(\"垃圾！\")\n",
    "else:\n",
    "    print(\"呵呵！\")"
   ]
  },
  {
   "cell_type": "code",
   "execution_count": null,
   "metadata": {
    "collapsed": true
   },
   "outputs": [],
   "source": []
  }
 ],
 "metadata": {
  "kernelspec": {
   "display_name": "Python 3",
   "language": "python",
   "name": "python3"
  },
  "language_info": {
   "codemirror_mode": {
    "name": "ipython",
    "version": 3
   },
   "file_extension": ".py",
   "mimetype": "text/x-python",
   "name": "python",
   "nbconvert_exporter": "python",
   "pygments_lexer": "ipython3",
   "version": "3.6.6"
  }
 },
 "nbformat": 4,
 "nbformat_minor": 2
}
