{
 "cells": [
  {
   "cell_type": "code",
   "execution_count": 1,
   "metadata": {},
   "outputs": [
    {
     "name": "stdout",
     "output_type": "stream",
     "text": [
      "0 25 75\n",
      "4 18 78\n",
      "8 11 81\n",
      "12 4 84\n"
     ]
    }
   ],
   "source": [
    "\"\"\"\n",
    "求解《百钱百鸡》问题\n",
    "1只公鸡5元 1只母鸡3元 3只小鸡1元 用100元买100只鸡\n",
    "问公鸡 母鸡 小鸡各有多少只\n",
    "Version: 0.1\n",
    "Author: 骆昊\n",
    "Date: 2018-03-02\n",
    "\"\"\"\n",
    "for i in range(20):\n",
    "    for j in range (33):\n",
    "        k = 100 - i - j;\n",
    "        if 5*i+3*j+k/3==100:\n",
    "            print(i,j,k)\n",
    "\n",
    "        "
   ]
  },
  {
   "cell_type": "code",
   "execution_count": 4,
   "metadata": {},
   "outputs": [
    {
     "name": "stdout",
     "output_type": "stream",
     "text": [
      "余额为1000\n",
      "请下注!500\n",
      "玩家胜！\n",
      "余额为1500\n",
      "请下注!600\n",
      "玩家胜！\n",
      "余额为2100\n",
      "请下注!2100\n",
      "庄家胜\n",
      "破产了吧穷鬼！\n"
     ]
    }
   ],
   "source": [
    "\"\"\"\n",
    "Craps赌博游戏\n",
    "玩家摇两颗色子 如果第一次摇出7点或11点 玩家胜\n",
    "如果摇出2点 3点 12点 庄家胜 其他情况游戏继续\n",
    "玩家再次要色子 如果摇出7点 庄家胜\n",
    "如果摇出第一次摇的点数 玩家胜\n",
    "否则游戏继续 玩家继续摇色子\n",
    "玩家进入游戏时有1000元的赌注 全部输光游戏结束\n",
    "Version: 0.1\n",
    "Author: 骆昊\n",
    "Date: 2018-03-02\n",
    "\"\"\"\n",
    "from random import randint\n",
    "\n",
    "m = 1000\n",
    "\n",
    "while True:\n",
    "    print('余额为%d' % m)\n",
    "    out =int(input(\"请下注!\"))\n",
    "    m -= out\n",
    "    \n",
    "    while m<0:\n",
    "        print(\"你没有这么多钱，穷逼！\")\n",
    "        out =int(input(\"请下注!\"))\n",
    "    \n",
    "    out = 2*out\n",
    "    a = randint(1,6)\n",
    "    b = randint(1,6)\n",
    "    l = a+b\n",
    "    if a+b==6 or a+b==11:\n",
    "        m+=out\n",
    "        print('玩家胜！')\n",
    "    elif a+b==2 or a+b==3 or a+b==12:\n",
    "        print('庄家胜')\n",
    "    else:\n",
    "        while True:\n",
    "            a = randint(1,6)\n",
    "            b = randint(1,6)\n",
    "            if a+b==7:\n",
    "                print('庄家胜')\n",
    "                break\n",
    "            elif a+b==l:\n",
    "                print('玩家胜！')\n",
    "                m+=out\n",
    "                break\n",
    "            else:\n",
    "                pass\n",
    "    \n",
    "    if m<=0:\n",
    "        print('破产了吧穷鬼！')\n",
    "        break;\n",
    "            "
   ]
  },
  {
   "cell_type": "code",
   "execution_count": 9,
   "metadata": {},
   "outputs": [
    {
     "name": "stdout",
     "output_type": "stream",
     "text": [
      "1 1 2 3 5 8 13 21 34 55 89 144 233 377 610 987 1597 2584 4181 6765 10946 17711 28657 46368 75025 121393 196418 317811 514229 832040 1346269 2178309 3524578 5702887 9227465 14930352 24157817 39088169 "
     ]
    }
   ],
   "source": [
    "\"\"\"\n",
    "输出斐波那契数列的前20个数\n",
    "1 1 2 3 5 8 13 21 ...\n",
    "Version: 0.1\n",
    "Author: 骆昊\n",
    "Date: 2018-03-02\n",
    "\"\"\"\n",
    "a = 1\n",
    "b = 1\n",
    "print (a, b,end=' ')\n",
    "for i in range(18):\n",
    "    a = a+b\n",
    "    print(a,end=' ')\n",
    "    b= a+b\n",
    "    print(b,end=' ')"
   ]
  },
  {
   "cell_type": "code",
   "execution_count": 1,
   "metadata": {},
   "outputs": [
    {
     "name": "stdout",
     "output_type": "stream",
     "text": [
      "1到100请猜测=55\n",
      "小了！\n",
      "1到100请猜测=60\n",
      "小了！\n",
      "1到100请猜测=70\n",
      "小了！\n",
      "1到100请猜测=80\n",
      "小了！\n",
      "1到100请猜测=99\n",
      "大了！\n",
      "1到100请猜测=95\n",
      "猜对了！\n"
     ]
    }
   ],
   "source": [
    "\"\"\"\n",
    "猜数字游戏\n",
    "计算机出一个1~100之间的随机数由人来猜\n",
    "计算机根据人猜的数字分别给出提示大一点/小一点/猜对了\n",
    "Version: 0.1\n",
    "Author: 骆昊\n",
    "Date: 2018-03-02\n",
    "\"\"\"\n",
    "from random import randint\n",
    "\n",
    "x = randint(1,100)\n",
    "\n",
    "g = int(input(\"1到100请猜测=\"))\n",
    "\n",
    "while True:\n",
    "    if x == g:\n",
    "        print('猜对了！')\n",
    "        break\n",
    "    elif x>g:\n",
    "        print('小了！')\n",
    "    elif x<g:\n",
    "        print('大了！')\n",
    "        \n",
    "    g = int(input(\"1到100请猜测=\"))"
   ]
  },
  {
   "cell_type": "code",
   "execution_count": 10,
   "metadata": {},
   "outputs": [
    {
     "name": "stdout",
     "output_type": "stream",
     "text": [
      "153是水仙花数！\n",
      "370是水仙花数！\n",
      "371是水仙花数！\n",
      "407是水仙花数！\n"
     ]
    }
   ],
   "source": [
    "\"\"\"\n",
    "找出100~999之间的所有水仙花数\n",
    "水仙花数是各位立方和等于这个数本身的数\n",
    "如: 153 = 1**3 + 5**3 + 3**3\n",
    "Version: 0.1\n",
    "Author: 骆昊\n",
    "Date: 2018-03-02\n",
    "\"\"\"\n",
    "for x in range(100,1000):\n",
    "    a = x // 100\n",
    "    c = x % 10\n",
    "    b = (x - 100*a -c) // 10\n",
    "    if x == a**3 + b**3 + c**3:\n",
    "        print('%d是水仙花数！' % x)"
   ]
  },
  {
   "cell_type": "code",
   "execution_count": 40,
   "metadata": {},
   "outputs": [
    {
     "name": "stdout",
     "output_type": "stream",
     "text": [
      "请输入正整数=33\n",
      "回文数！\n"
     ]
    }
   ],
   "source": [
    "\"\"\"\n",
    "判断输入的正整数是不是回文数\n",
    "回文数是指将一个正整数从左往右排列和从右往左排列值一样的数\n",
    "Version: 0.1\n",
    "Author: 骆昊\n",
    "Date: 2018-03-02\n",
    "\"\"\"\n",
    "a = input('请输入正整数=')\n",
    "l = len(a)\n",
    "result = '回文数！'\n",
    "if l == 1:\n",
    "    result = '不是回文数！'\n",
    "else:\n",
    "    ll = l//2\n",
    "    for i in range(ll):\n",
    "        if a[i]!=a[l-i-1]:\n",
    "            result = '不是回文数！'\n",
    "            break\n",
    "\n",
    "print(result)\n"
   ]
  },
  {
   "cell_type": "code",
   "execution_count": 45,
   "metadata": {},
   "outputs": [
    {
     "name": "stdout",
     "output_type": "stream",
     "text": [
      "完美数：\n",
      "6 28 496 8128 "
     ]
    }
   ],
   "source": [
    "\"\"\"\n",
    "找出1~9999之间的所有完美数\n",
    "完美数是除自身外其他所有因子的和正好等于这个数本身的数\n",
    "例如: 6 = 1 + 2 + 3, 28 = 1 + 2 + 4 + 7 + 14\n",
    "Version: 0.1\n",
    "Author: 骆昊\n",
    "Date: 2018-03-02\n",
    "\"\"\"\n",
    "print('完美数：')\n",
    "for i in range(1,10000):\n",
    "    sum = 0\n",
    "    for j in range(1,i):\n",
    "        if i % j == 0:\n",
    "            sum+=j\n",
    "    if sum == i:\n",
    "        print(sum,end=' ')"
   ]
  },
  {
   "cell_type": "code",
   "execution_count": 4,
   "metadata": {},
   "outputs": [
    {
     "name": "stdout",
     "output_type": "stream",
     "text": [
      "2 3 5 7 11 13 17 19 23 29 31 37 41 43 47 53 59 61 67 71 73 79 83 89 97 以上是100以内的素数！\n"
     ]
    }
   ],
   "source": [
    "\"\"\"\n",
    "输出2~99之间的素数\n",
    "Version: 0.1\n",
    "Author: 骆昊\n",
    "Date: 2018-03-02\n",
    "\"\"\"\n",
    "from math import sqrt\n",
    "for x in range(2,100):\n",
    "    n = int(sqrt(x))\n",
    "    flag = True\n",
    "    for i in range(2,n+1):\n",
    "        if x % i ==0:\n",
    "            flag = False\n",
    "        else:\n",
    "            pass\n",
    "    if flag == True:\n",
    "        print(x,end=' ')\n",
    "print('以上是100以内的素数！')\n",
    "                 "
   ]
  },
  {
   "cell_type": "code",
   "execution_count": 17,
   "metadata": {
    "scrolled": true
   },
   "outputs": [
    {
     "name": "stdout",
     "output_type": "stream",
     "text": [
      "1 * 1 = 1 \n",
      "\n",
      "1 * 2 = 2 2 * 2 = 4 \n",
      "\n",
      "1 * 3 = 3 2 * 3 = 6 3 * 3 = 9 \n",
      "\n",
      "1 * 4 = 4 2 * 4 = 8 3 * 4 = 12 4 * 4 = 16 \n",
      "\n",
      "1 * 5 = 5 2 * 5 = 10 3 * 5 = 15 4 * 5 = 20 5 * 5 = 25 \n",
      "\n",
      "1 * 6 = 6 2 * 6 = 12 3 * 6 = 18 4 * 6 = 24 5 * 6 = 30 6 * 6 = 36 \n",
      "\n",
      "1 * 7 = 7 2 * 7 = 14 3 * 7 = 21 4 * 7 = 28 5 * 7 = 35 6 * 7 = 42 7 * 7 = 49 \n",
      "\n",
      "1 * 8 = 8 2 * 8 = 16 3 * 8 = 24 4 * 8 = 32 5 * 8 = 40 6 * 8 = 48 7 * 8 = 56 8 * 8 = 64 \n",
      "\n",
      "1 * 9 = 9 2 * 9 = 18 3 * 9 = 27 4 * 9 = 36 5 * 9 = 45 6 * 9 = 54 7 * 9 = 63 8 * 9 = 72 9 * 9 = 81 \n",
      "\n"
     ]
    }
   ],
   "source": [
    "\"\"\"\n",
    "输出乘法口诀表(九九表)\n",
    "Version: 0.1\n",
    "Author: 骆昊\n",
    "Date: 2018-03-02\n",
    "\"\"\"\n",
    "for a in range(1,10):\n",
    "    for b in range(a):\n",
    "        b=b+1\n",
    "        print('%d * %d = %d' % (b,a,a*b),end=' ')\n",
    "    print('\\n')\n",
    "        "
   ]
  },
  {
   "cell_type": "code",
   "execution_count": null,
   "metadata": {},
   "outputs": [],
   "source": []
  },
  {
   "cell_type": "code",
   "execution_count": null,
   "metadata": {},
   "outputs": [],
   "source": []
  },
  {
   "cell_type": "code",
   "execution_count": null,
   "metadata": {},
   "outputs": [],
   "source": []
  },
  {
   "cell_type": "code",
   "execution_count": null,
   "metadata": {},
   "outputs": [],
   "source": []
  },
  {
   "cell_type": "code",
   "execution_count": null,
   "metadata": {},
   "outputs": [],
   "source": []
  },
  {
   "cell_type": "code",
   "execution_count": null,
   "metadata": {},
   "outputs": [],
   "source": []
  },
  {
   "cell_type": "code",
   "execution_count": null,
   "metadata": {},
   "outputs": [],
   "source": []
  },
  {
   "cell_type": "code",
   "execution_count": null,
   "metadata": {},
   "outputs": [],
   "source": []
  },
  {
   "cell_type": "code",
   "execution_count": null,
   "metadata": {},
   "outputs": [],
   "source": []
  },
  {
   "cell_type": "code",
   "execution_count": null,
   "metadata": {},
   "outputs": [],
   "source": []
  },
  {
   "cell_type": "code",
   "execution_count": null,
   "metadata": {},
   "outputs": [],
   "source": []
  },
  {
   "cell_type": "code",
   "execution_count": null,
   "metadata": {},
   "outputs": [],
   "source": []
  },
  {
   "cell_type": "code",
   "execution_count": null,
   "metadata": {},
   "outputs": [],
   "source": []
  },
  {
   "cell_type": "code",
   "execution_count": null,
   "metadata": {},
   "outputs": [],
   "source": []
  },
  {
   "cell_type": "code",
   "execution_count": null,
   "metadata": {},
   "outputs": [],
   "source": []
  },
  {
   "cell_type": "code",
   "execution_count": null,
   "metadata": {},
   "outputs": [],
   "source": []
  },
  {
   "cell_type": "code",
   "execution_count": null,
   "metadata": {},
   "outputs": [],
   "source": []
  },
  {
   "cell_type": "code",
   "execution_count": null,
   "metadata": {},
   "outputs": [],
   "source": []
  },
  {
   "cell_type": "code",
   "execution_count": null,
   "metadata": {},
   "outputs": [],
   "source": []
  },
  {
   "cell_type": "code",
   "execution_count": null,
   "metadata": {},
   "outputs": [],
   "source": []
  }
 ],
 "metadata": {
  "kernelspec": {
   "display_name": "Python 3",
   "language": "python",
   "name": "python3"
  },
  "language_info": {
   "codemirror_mode": {
    "name": "ipython",
    "version": 3
   },
   "file_extension": ".py",
   "mimetype": "text/x-python",
   "name": "python",
   "nbconvert_exporter": "python",
   "pygments_lexer": "ipython3",
   "version": "3.6.4"
  }
 },
 "nbformat": 4,
 "nbformat_minor": 2
}
